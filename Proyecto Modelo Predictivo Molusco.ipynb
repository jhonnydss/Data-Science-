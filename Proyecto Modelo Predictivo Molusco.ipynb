{
 "cells": [
  {
   "cell_type": "markdown",
   "id": "e9cea25d",
   "metadata": {},
   "source": [
    "# Proyecto Final\n",
    "\n",
    "### Parte 1:\n",
    "\n",
    "Análisis exploratorio de los datos\n",
    "Para este proyecto debes descargar la base de datos abalone_train.csv que hace parte de los adjuntos del curso. \n",
    "\n",
    "Esta base de datos contiene información sobre un conjunto de abalones, que son un tipo de molusco. \n",
    "\n",
    "Las variables de la base de datos son:\n",
    "\n",
    "* Sexo: masculino (M), femenino (F) o indefinido (I)\n",
    "* longitud\n",
    "* diametro\n",
    "* altura\n",
    "* peso_entero\n",
    "* peso_sin_cascara\n",
    "* peso_visceras\n",
    "* peso_cascara\n",
    "* edad\n",
    "\n",
    "\n",
    "#### El objetivo final del proyecto es predecir la edad de un abalón, utilizando información de las variables disponibles en la base de datos. En este primer avance, el objetivo es realizar el análisis exploratorio de los datos. En particular, debes realizar lo siguiente:\n",
    "\n",
    "i. ¿Cuántos datos tenemos para nuestro análisis?\n",
    "\n",
    "ii. Encontrar estadísticas descriptivas de todas las variables de la base de datos. Entre ellas, deben estar: media, desviación\n",
    "estándar, mínimo, máximo, percentiles 25, 50 y 75.\n",
    "\n",
    "iii. Hacer un análisis exploratorio para ver qué variables pueden\n",
    "ser las mejores al momento de predecir si una persona tiene diabetes. Para esto, debes generar:\n",
    "\n",
    "i. Gráficos de dispersión de las variables 2.-8. contra la variable edad. ¿Cuáles variables parecieran ser buenas para explicar la edad de un abalón? \n",
    "\n",
    "Nota: Si se intenta hacer el gráfico de dispersión de la librería Seaborn para la variable sexo agregándole la línea de regresión como hicimos en clase, va a arrojar error por ser una variable categórica. \n",
    "\n",
    "Por eso debemos excluirla de este análisis si queremos agregar línea de regresión.\n",
    "\n",
    "ii. Gráfico de calor para ver las correlaciones existentes entre variables. ¿Lo que se observa en el gráfico de calor concuerda con lo encontrado en los gráficos de dispersión? ¿Cuáles variables tienen correlaciones positivas o negativas más fuertes con respecto a la variable edad?\n",
    "\n",
    "iii. Gráficos de cajas y bigotes para todas las variables categóricas o discretas. ¿Cuáles variables son categóricas? ¿Qué categorías tienen mayor edad en promedio?\n",
    "\n",
    "Proyecto parte 2: métricas de desempeño de un modelo\n",
    "\n",
    "Para esta segunda entrega debes descargar la base de datos abalone_test.csv. Esta base de datos contiene el conjunto de validación, sobre el que vamos a medir qué tan buen desempeño tiene un modelo particular.\n",
    "Esta base de datos contiene exactamente las mismas variables que la base de datos de la primera entrega, además de dos nuevas columnas llamadas modelo_2 y modelo_3. Estas variables son la predicción de la edad de cada abalón utilizando dos modelos entrenados por otra persona.\n",
    " 2\n",
    " \n",
    "En este segundo avance, el objetivo es que midas el desempeño de cada modelo para predecir la variable edad y escoger cuál modelo es mejor entre los dos propuestos. En particular, es importante que hagas lo siguiente:\n",
    "1. Grafica la variable edad contra la edad predicha en cada modelo (haz un gráfico separado para el modelo_2 y para el modelo_3). ¿Qué modelo pareciera ser mejor cuando se hace el análisis gráfico?\n",
    "2. Calcular las métricas RMSE, MAE y MAPE para los dos modelos y construir una tabla que permita comparar los dos modelos.\n",
    "3. ¿Qué modelo es mejor entre modelo_2 y modelo_3?\n",
    "4. ¿Qué tan bueno es el mejor modelo? Es decir, si utilizamos el\n",
    "mejor modelo, ¿qué tan grande es el error que vamos a tener, en promedio, a la hora de predecir la edad de un abalón?\n",
    "\n",
    "Parte 3: Proyecto final\n",
    "\n",
    "Ahora sí, llegó la hora de hacer analítica predictiva en Python. El objetivo de esta tercera entrega del proyecto es que construyas tu propio modelo de regresión para estimar la edad de un abalón.\n",
    "Para este propósito, deberás usar las bases de datos abalone_test.csv y abalone_train.csv. El objetivo es que construyas distintos modelos para predecir la edad de un abalón y que escojas el mejor entre todos los modelos. Los puntos a entregar son:\n",
    "1. De acuerdo con el análisis exploratorio de la primera entrega, ¿cuáles variables parecieran ser las que más información tienen para predecir la edad de un abalón?\n",
    "2. Toma los datos del conjunto de entrenamiento abalone_train.csv. La idea es entrenar 3 distintos modelos de predicción con estos datos. Recuerda que las variaciones a tus modelos pueden ser:\n",
    "a. Utiliza distintos modelos: regresión lineal univariada, regresión lineal multivariada, Random Forests con distintos parámetros\n",
    "b. Utiliza distintas variables en cada modelo. \n",
    "\n",
    "Por ejemplo, en un modelo puedes utilizar longitud, diametro, altura y peso_entero. En otro modelo puedes utilizar todas las variables.\n",
    " 3\n",
    " \n",
    "c. Puedes construir nuevas variables.\n",
    "\n",
    "Nota: Si intentas entrenar los modelos con la variable sexo, vas a obtener un error, puesto que esta variable es categórica y toma los valores no numéricos F, M e I. Para utilizar esta variable, ejecuta primero estos dos líneas de código:\n",
    "\n",
    "df_train[[‘sexo_F’, ‘sexo_I’, ‘sexo_M’]] = pd.get_dummies(df_ train[‘sexo’])\n",
    "df_test[[‘sexo_F’, ‘sexo_I’, ‘sexo_M’]] = pd.get_dummies(df_ test[‘sexo’])\n",
    "\n",
    "Con esto, estás agregando al DataFrame tres columnas con valores 0 y 1: sexo_F, sexo_I, sexo_M. Para estimar los modelos, debes incluir estas tres variables en vez de sexo.\n",
    "\n",
    "3. Toma los datos del conjunto de validación abalone_test.csv. Para cada uno de los modelos del punto 2., haz la gráfica que muestra la edad real vs la edad predicha por cada modelo. Según el análisis gráfico, ¿qué modelo pareciera ser el mejor?\n",
    "4. Calcula las métricas RMSE, MAE y MAPE y agrégalas en una tabla que permita comparar el desempeño de los tres modelos. ¿Qué modelo es mejor en predecir la edad de un abalón? ¿Qué tan bueno es el mejor modelo?tiene diabetes? ¿Qué tan bueno es el mejor modelo?\n"
   ]
  },
  {
   "cell_type": "code",
   "execution_count": 132,
   "id": "b4f5e10a",
   "metadata": {},
   "outputs": [],
   "source": [
    "# Primero importamos nuestras librerias\n",
    "import pandas as pd \n",
    "import matplotlib.pyplot as plt \n",
    "import seaborn as sns\n",
    "import numpy as np"
   ]
  },
  {
   "cell_type": "code",
   "execution_count": 133,
   "id": "6364f7da",
   "metadata": {},
   "outputs": [],
   "source": [
    "df_train = pd.read_csv('abalone_train.csv')\n",
    "df_test = pd.read_csv('abalone_test.csv')"
   ]
  },
  {
   "cell_type": "code",
   "execution_count": 134,
   "id": "66044dde",
   "metadata": {},
   "outputs": [
    {
     "name": "stdout",
     "output_type": "stream",
     "text": [
      "<class 'pandas.core.frame.DataFrame'>\n",
      "RangeIndex: 3342 entries, 0 to 3341\n",
      "Data columns (total 9 columns):\n",
      " #   Column            Non-Null Count  Dtype  \n",
      "---  ------            --------------  -----  \n",
      " 0   sexo              3342 non-null   object \n",
      " 1   longitud          3342 non-null   float64\n",
      " 2   diametro          3342 non-null   float64\n",
      " 3   altura            3342 non-null   float64\n",
      " 4   peso_entero       3342 non-null   float64\n",
      " 5   peso_sin_cascara  3342 non-null   float64\n",
      " 6   peso_visceras     3342 non-null   float64\n",
      " 7   peso_cascara      3342 non-null   float64\n",
      " 8   edad              3342 non-null   int64  \n",
      "dtypes: float64(7), int64(1), object(1)\n",
      "memory usage: 235.1+ KB\n"
     ]
    }
   ],
   "source": [
    "df_train.info()"
   ]
  },
  {
   "cell_type": "code",
   "execution_count": 135,
   "id": "77d3bf1b",
   "metadata": {},
   "outputs": [
    {
     "data": {
      "text/html": [
       "<div>\n",
       "<style scoped>\n",
       "    .dataframe tbody tr th:only-of-type {\n",
       "        vertical-align: middle;\n",
       "    }\n",
       "\n",
       "    .dataframe tbody tr th {\n",
       "        vertical-align: top;\n",
       "    }\n",
       "\n",
       "    .dataframe thead th {\n",
       "        text-align: right;\n",
       "    }\n",
       "</style>\n",
       "<table border=\"1\" class=\"dataframe\">\n",
       "  <thead>\n",
       "    <tr style=\"text-align: right;\">\n",
       "      <th></th>\n",
       "      <th>longitud</th>\n",
       "      <th>diametro</th>\n",
       "      <th>altura</th>\n",
       "      <th>peso_entero</th>\n",
       "      <th>peso_sin_cascara</th>\n",
       "      <th>peso_visceras</th>\n",
       "      <th>peso_cascara</th>\n",
       "      <th>edad</th>\n",
       "    </tr>\n",
       "  </thead>\n",
       "  <tbody>\n",
       "    <tr>\n",
       "      <th>count</th>\n",
       "      <td>3342.000000</td>\n",
       "      <td>3342.000000</td>\n",
       "      <td>3342.000000</td>\n",
       "      <td>3342.000000</td>\n",
       "      <td>3342.000000</td>\n",
       "      <td>3342.000000</td>\n",
       "      <td>3342.000000</td>\n",
       "      <td>3342.000000</td>\n",
       "    </tr>\n",
       "    <tr>\n",
       "      <th>mean</th>\n",
       "      <td>0.522362</td>\n",
       "      <td>0.406858</td>\n",
       "      <td>0.139461</td>\n",
       "      <td>0.823557</td>\n",
       "      <td>0.355899</td>\n",
       "      <td>0.179492</td>\n",
       "      <td>0.238495</td>\n",
       "      <td>10.040694</td>\n",
       "    </tr>\n",
       "    <tr>\n",
       "      <th>std</th>\n",
       "      <td>0.120648</td>\n",
       "      <td>0.099741</td>\n",
       "      <td>0.042764</td>\n",
       "      <td>0.491525</td>\n",
       "      <td>0.221827</td>\n",
       "      <td>0.109655</td>\n",
       "      <td>0.141137</td>\n",
       "      <td>3.335768</td>\n",
       "    </tr>\n",
       "    <tr>\n",
       "      <th>min</th>\n",
       "      <td>0.075000</td>\n",
       "      <td>0.055000</td>\n",
       "      <td>0.000000</td>\n",
       "      <td>0.002000</td>\n",
       "      <td>0.001000</td>\n",
       "      <td>0.000500</td>\n",
       "      <td>0.001500</td>\n",
       "      <td>1.000000</td>\n",
       "    </tr>\n",
       "    <tr>\n",
       "      <th>25%</th>\n",
       "      <td>0.450000</td>\n",
       "      <td>0.345000</td>\n",
       "      <td>0.115000</td>\n",
       "      <td>0.438000</td>\n",
       "      <td>0.182000</td>\n",
       "      <td>0.092500</td>\n",
       "      <td>0.127875</td>\n",
       "      <td>8.000000</td>\n",
       "    </tr>\n",
       "    <tr>\n",
       "      <th>50%</th>\n",
       "      <td>0.540000</td>\n",
       "      <td>0.425000</td>\n",
       "      <td>0.140000</td>\n",
       "      <td>0.795750</td>\n",
       "      <td>0.332000</td>\n",
       "      <td>0.169250</td>\n",
       "      <td>0.230000</td>\n",
       "      <td>10.000000</td>\n",
       "    </tr>\n",
       "    <tr>\n",
       "      <th>75%</th>\n",
       "      <td>0.615000</td>\n",
       "      <td>0.480000</td>\n",
       "      <td>0.165000</td>\n",
       "      <td>1.145000</td>\n",
       "      <td>0.497000</td>\n",
       "      <td>0.249875</td>\n",
       "      <td>0.325000</td>\n",
       "      <td>11.000000</td>\n",
       "    </tr>\n",
       "    <tr>\n",
       "      <th>max</th>\n",
       "      <td>0.815000</td>\n",
       "      <td>0.650000</td>\n",
       "      <td>1.130000</td>\n",
       "      <td>2.825500</td>\n",
       "      <td>1.488000</td>\n",
       "      <td>0.760000</td>\n",
       "      <td>1.005000</td>\n",
       "      <td>29.000000</td>\n",
       "    </tr>\n",
       "  </tbody>\n",
       "</table>\n",
       "</div>"
      ],
      "text/plain": [
       "          longitud     diametro       altura  peso_entero  peso_sin_cascara  \\\n",
       "count  3342.000000  3342.000000  3342.000000  3342.000000       3342.000000   \n",
       "mean      0.522362     0.406858     0.139461     0.823557          0.355899   \n",
       "std       0.120648     0.099741     0.042764     0.491525          0.221827   \n",
       "min       0.075000     0.055000     0.000000     0.002000          0.001000   \n",
       "25%       0.450000     0.345000     0.115000     0.438000          0.182000   \n",
       "50%       0.540000     0.425000     0.140000     0.795750          0.332000   \n",
       "75%       0.615000     0.480000     0.165000     1.145000          0.497000   \n",
       "max       0.815000     0.650000     1.130000     2.825500          1.488000   \n",
       "\n",
       "       peso_visceras  peso_cascara         edad  \n",
       "count    3342.000000   3342.000000  3342.000000  \n",
       "mean        0.179492      0.238495    10.040694  \n",
       "std         0.109655      0.141137     3.335768  \n",
       "min         0.000500      0.001500     1.000000  \n",
       "25%         0.092500      0.127875     8.000000  \n",
       "50%         0.169250      0.230000    10.000000  \n",
       "75%         0.249875      0.325000    11.000000  \n",
       "max         0.760000      1.005000    29.000000  "
      ]
     },
     "execution_count": 135,
     "metadata": {},
     "output_type": "execute_result"
    }
   ],
   "source": [
    "df_train.describe()"
   ]
  },
  {
   "cell_type": "markdown",
   "id": "c9287930",
   "metadata": {},
   "source": [
    "## Value counts, para saver cuantos datos hay de cada elemento a ver la distribucion de la data."
   ]
  },
  {
   "cell_type": "code",
   "execution_count": 136,
   "id": "7961c1e4",
   "metadata": {},
   "outputs": [
    {
     "data": {
      "text/plain": [
       "sexo\n",
       "M    1233\n",
       "F    1070\n",
       "I    1039\n",
       "dtype: int64"
      ]
     },
     "execution_count": 136,
     "metadata": {},
     "output_type": "execute_result"
    }
   ],
   "source": [
    "# Esta distribucion dice que hay mas de 180 elementos de sexo masculino mas que los demas.\n",
    "df_train.value_counts('sexo')"
   ]
  },
  {
   "cell_type": "code",
   "execution_count": 137,
   "id": "0b872ede",
   "metadata": {
    "scrolled": true
   },
   "outputs": [
    {
     "data": {
      "text/html": [
       "<div>\n",
       "<style scoped>\n",
       "    .dataframe tbody tr th:only-of-type {\n",
       "        vertical-align: middle;\n",
       "    }\n",
       "\n",
       "    .dataframe tbody tr th {\n",
       "        vertical-align: top;\n",
       "    }\n",
       "\n",
       "    .dataframe thead th {\n",
       "        text-align: right;\n",
       "    }\n",
       "</style>\n",
       "<table border=\"1\" class=\"dataframe\">\n",
       "  <thead>\n",
       "    <tr style=\"text-align: right;\">\n",
       "      <th></th>\n",
       "      <th>sexo</th>\n",
       "      <th>longitud</th>\n",
       "      <th>diametro</th>\n",
       "      <th>altura</th>\n",
       "      <th>peso_entero</th>\n",
       "      <th>peso_sin_cascara</th>\n",
       "      <th>peso_visceras</th>\n",
       "      <th>peso_cascara</th>\n",
       "      <th>edad</th>\n",
       "    </tr>\n",
       "  </thead>\n",
       "  <tbody>\n",
       "    <tr>\n",
       "      <th>0</th>\n",
       "      <td>M</td>\n",
       "      <td>0.620</td>\n",
       "      <td>0.490</td>\n",
       "      <td>0.155</td>\n",
       "      <td>1.1000</td>\n",
       "      <td>0.5050</td>\n",
       "      <td>0.2475</td>\n",
       "      <td>0.3100</td>\n",
       "      <td>9</td>\n",
       "    </tr>\n",
       "    <tr>\n",
       "      <th>1</th>\n",
       "      <td>I</td>\n",
       "      <td>0.475</td>\n",
       "      <td>0.375</td>\n",
       "      <td>0.110</td>\n",
       "      <td>0.4560</td>\n",
       "      <td>0.1820</td>\n",
       "      <td>0.0990</td>\n",
       "      <td>0.1600</td>\n",
       "      <td>9</td>\n",
       "    </tr>\n",
       "    <tr>\n",
       "      <th>2</th>\n",
       "      <td>M</td>\n",
       "      <td>0.600</td>\n",
       "      <td>0.475</td>\n",
       "      <td>0.175</td>\n",
       "      <td>1.1100</td>\n",
       "      <td>0.5105</td>\n",
       "      <td>0.2560</td>\n",
       "      <td>0.2850</td>\n",
       "      <td>9</td>\n",
       "    </tr>\n",
       "    <tr>\n",
       "      <th>3</th>\n",
       "      <td>I</td>\n",
       "      <td>0.340</td>\n",
       "      <td>0.255</td>\n",
       "      <td>0.075</td>\n",
       "      <td>0.1800</td>\n",
       "      <td>0.0745</td>\n",
       "      <td>0.0400</td>\n",
       "      <td>0.0525</td>\n",
       "      <td>6</td>\n",
       "    </tr>\n",
       "    <tr>\n",
       "      <th>4</th>\n",
       "      <td>F</td>\n",
       "      <td>0.670</td>\n",
       "      <td>0.505</td>\n",
       "      <td>0.205</td>\n",
       "      <td>1.3645</td>\n",
       "      <td>0.6075</td>\n",
       "      <td>0.3025</td>\n",
       "      <td>0.3530</td>\n",
       "      <td>9</td>\n",
       "    </tr>\n",
       "  </tbody>\n",
       "</table>\n",
       "</div>"
      ],
      "text/plain": [
       "  sexo  longitud  diametro  altura  peso_entero  peso_sin_cascara  \\\n",
       "0    M     0.620     0.490   0.155       1.1000            0.5050   \n",
       "1    I     0.475     0.375   0.110       0.4560            0.1820   \n",
       "2    M     0.600     0.475   0.175       1.1100            0.5105   \n",
       "3    I     0.340     0.255   0.075       0.1800            0.0745   \n",
       "4    F     0.670     0.505   0.205       1.3645            0.6075   \n",
       "\n",
       "   peso_visceras  peso_cascara  edad  \n",
       "0         0.2475        0.3100     9  \n",
       "1         0.0990        0.1600     9  \n",
       "2         0.2560        0.2850     9  \n",
       "3         0.0400        0.0525     6  \n",
       "4         0.3025        0.3530     9  "
      ]
     },
     "execution_count": 137,
     "metadata": {},
     "output_type": "execute_result"
    }
   ],
   "source": [
    "df_train.head()"
   ]
  },
  {
   "cell_type": "code",
   "execution_count": 138,
   "id": "1172c028",
   "metadata": {
    "scrolled": false
   },
   "outputs": [
    {
     "data": {
      "text/html": [
       "<div>\n",
       "<style scoped>\n",
       "    .dataframe tbody tr th:only-of-type {\n",
       "        vertical-align: middle;\n",
       "    }\n",
       "\n",
       "    .dataframe tbody tr th {\n",
       "        vertical-align: top;\n",
       "    }\n",
       "\n",
       "    .dataframe thead th {\n",
       "        text-align: right;\n",
       "    }\n",
       "</style>\n",
       "<table border=\"1\" class=\"dataframe\">\n",
       "  <thead>\n",
       "    <tr style=\"text-align: right;\">\n",
       "      <th></th>\n",
       "      <th>longitud</th>\n",
       "      <th>diametro</th>\n",
       "      <th>altura</th>\n",
       "      <th>peso_entero</th>\n",
       "      <th>peso_sin_cascara</th>\n",
       "      <th>peso_visceras</th>\n",
       "      <th>peso_cascara</th>\n",
       "      <th>edad</th>\n",
       "    </tr>\n",
       "    <tr>\n",
       "      <th>sexo</th>\n",
       "      <th></th>\n",
       "      <th></th>\n",
       "      <th></th>\n",
       "      <th></th>\n",
       "      <th></th>\n",
       "      <th></th>\n",
       "      <th></th>\n",
       "      <th></th>\n",
       "    </tr>\n",
       "  </thead>\n",
       "  <tbody>\n",
       "    <tr>\n",
       "      <th>F</th>\n",
       "      <td>0.576098</td>\n",
       "      <td>0.452322</td>\n",
       "      <td>0.157701</td>\n",
       "      <td>1.033271</td>\n",
       "      <td>0.438700</td>\n",
       "      <td>0.227446</td>\n",
       "      <td>0.299690</td>\n",
       "      <td>11.272897</td>\n",
       "    </tr>\n",
       "    <tr>\n",
       "      <th>I</th>\n",
       "      <td>0.424986</td>\n",
       "      <td>0.324427</td>\n",
       "      <td>0.107377</td>\n",
       "      <td>0.424676</td>\n",
       "      <td>0.188345</td>\n",
       "      <td>0.090859</td>\n",
       "      <td>0.126053</td>\n",
       "      <td>7.881617</td>\n",
       "    </tr>\n",
       "    <tr>\n",
       "      <th>M</th>\n",
       "      <td>0.557786</td>\n",
       "      <td>0.436865</td>\n",
       "      <td>0.150669</td>\n",
       "      <td>0.977689</td>\n",
       "      <td>0.425236</td>\n",
       "      <td>0.212564</td>\n",
       "      <td>0.280139</td>\n",
       "      <td>10.790754</td>\n",
       "    </tr>\n",
       "  </tbody>\n",
       "</table>\n",
       "</div>"
      ],
      "text/plain": [
       "      longitud  diametro    altura  peso_entero  peso_sin_cascara  \\\n",
       "sexo                                                                \n",
       "F     0.576098  0.452322  0.157701     1.033271          0.438700   \n",
       "I     0.424986  0.324427  0.107377     0.424676          0.188345   \n",
       "M     0.557786  0.436865  0.150669     0.977689          0.425236   \n",
       "\n",
       "      peso_visceras  peso_cascara       edad  \n",
       "sexo                                          \n",
       "F          0.227446      0.299690  11.272897  \n",
       "I          0.090859      0.126053   7.881617  \n",
       "M          0.212564      0.280139  10.790754  "
      ]
     },
     "execution_count": 138,
     "metadata": {},
     "output_type": "execute_result"
    }
   ],
   "source": [
    "df_train.groupby(['sexo']).mean()"
   ]
  },
  {
   "cell_type": "code",
   "execution_count": 139,
   "id": "2efa5780",
   "metadata": {},
   "outputs": [
    {
     "data": {
      "text/html": [
       "<div>\n",
       "<style scoped>\n",
       "    .dataframe tbody tr th:only-of-type {\n",
       "        vertical-align: middle;\n",
       "    }\n",
       "\n",
       "    .dataframe tbody tr th {\n",
       "        vertical-align: top;\n",
       "    }\n",
       "\n",
       "    .dataframe thead th {\n",
       "        text-align: right;\n",
       "    }\n",
       "</style>\n",
       "<table border=\"1\" class=\"dataframe\">\n",
       "  <thead>\n",
       "    <tr style=\"text-align: right;\">\n",
       "      <th></th>\n",
       "      <th>longitud</th>\n",
       "      <th>diametro</th>\n",
       "      <th>altura</th>\n",
       "      <th>peso_entero</th>\n",
       "      <th>peso_sin_cascara</th>\n",
       "      <th>peso_visceras</th>\n",
       "      <th>peso_cascara</th>\n",
       "      <th>edad</th>\n",
       "    </tr>\n",
       "    <tr>\n",
       "      <th>sexo</th>\n",
       "      <th></th>\n",
       "      <th></th>\n",
       "      <th></th>\n",
       "      <th></th>\n",
       "      <th></th>\n",
       "      <th></th>\n",
       "      <th></th>\n",
       "      <th></th>\n",
       "    </tr>\n",
       "  </thead>\n",
       "  <tbody>\n",
       "    <tr>\n",
       "      <th>F</th>\n",
       "      <td>0.815</td>\n",
       "      <td>0.65</td>\n",
       "      <td>1.130</td>\n",
       "      <td>2.6570</td>\n",
       "      <td>1.488</td>\n",
       "      <td>0.5900</td>\n",
       "      <td>1.005</td>\n",
       "      <td>29</td>\n",
       "    </tr>\n",
       "    <tr>\n",
       "      <th>I</th>\n",
       "      <td>0.680</td>\n",
       "      <td>0.53</td>\n",
       "      <td>0.215</td>\n",
       "      <td>1.7860</td>\n",
       "      <td>0.715</td>\n",
       "      <td>0.4005</td>\n",
       "      <td>0.530</td>\n",
       "      <td>21</td>\n",
       "    </tr>\n",
       "    <tr>\n",
       "      <th>M</th>\n",
       "      <td>0.775</td>\n",
       "      <td>0.63</td>\n",
       "      <td>0.515</td>\n",
       "      <td>2.8255</td>\n",
       "      <td>1.351</td>\n",
       "      <td>0.7600</td>\n",
       "      <td>0.897</td>\n",
       "      <td>27</td>\n",
       "    </tr>\n",
       "  </tbody>\n",
       "</table>\n",
       "</div>"
      ],
      "text/plain": [
       "      longitud  diametro  altura  peso_entero  peso_sin_cascara  \\\n",
       "sexo                                                              \n",
       "F        0.815      0.65   1.130       2.6570             1.488   \n",
       "I        0.680      0.53   0.215       1.7860             0.715   \n",
       "M        0.775      0.63   0.515       2.8255             1.351   \n",
       "\n",
       "      peso_visceras  peso_cascara  edad  \n",
       "sexo                                     \n",
       "F            0.5900         1.005    29  \n",
       "I            0.4005         0.530    21  \n",
       "M            0.7600         0.897    27  "
      ]
     },
     "execution_count": 139,
     "metadata": {},
     "output_type": "execute_result"
    }
   ],
   "source": [
    "df_train.groupby(['sexo']).max()"
   ]
  },
  {
   "cell_type": "code",
   "execution_count": 228,
   "id": "3466535d",
   "metadata": {
    "scrolled": false
   },
   "outputs": [
    {
     "data": {
      "text/plain": [
       "<AxesSubplot:>"
      ]
     },
     "execution_count": 228,
     "metadata": {},
     "output_type": "execute_result"
    },
    {
     "data": {
      "image/png": "[encoded data removed]",
      "text/plain": [
       "<Figure size 936x936 with 2 Axes>"
      ]
     },
     "metadata": {
      "needs_background": "light"
     },
     "output_type": "display_data"
    }
   ],
   "source": [
    "plt.figure(figsize=(13,13))\n",
    "sns.heatmap(df.corr(), annot=True)"
   ]
  },
  {
   "cell_type": "code",
   "execution_count": 141,
   "id": "56bb069f",
   "metadata": {},
   "outputs": [],
   "source": [
    "## Las variables peso de la cascara esta muy correlacionada posivamente con la edad del moslusco.\n",
    "## Pesos viceras por igual."
   ]
  },
  {
   "cell_type": "code",
   "execution_count": 142,
   "id": "e9009876",
   "metadata": {
    "scrolled": true
   },
   "outputs": [
    {
     "data": {
      "text/plain": [
       "<matplotlib.collections.PathCollection at 0x7fa192512880>"
      ]
     },
     "execution_count": 142,
     "metadata": {},
     "output_type": "execute_result"
    },
    {
     "data": {
      "image/png": "[encoded data removed]",
      "text/plain": [
       "<Figure size 432x288 with 1 Axes>"
      ]
     },
     "metadata": {
      "needs_background": "light"
     },
     "output_type": "display_data"
    }
   ],
   "source": [
    "# Esta variable esta muy bien determinante, a medida que aumenta la edad, aumenta el peso de la cascara.\n",
    "plt.scatter(df_train['peso_cascara'],df_train['edad'])"
   ]
  },
  {
   "cell_type": "code",
   "execution_count": 143,
   "id": "e8e0ed7c",
   "metadata": {},
   "outputs": [
    {
     "data": {
      "text/plain": [
       "<seaborn.axisgrid.FacetGrid at 0x7fa1926de610>"
      ]
     },
     "execution_count": 143,
     "metadata": {},
     "output_type": "execute_result"
    },
    {
     "data": {
      "image/png": "[encoded data removed]",
      "text/plain": [
       "<Figure size 360x360 with 1 Axes>"
      ]
     },
     "metadata": {
      "needs_background": "light"
     },
     "output_type": "display_data"
    }
   ],
   "source": [
    "# Ahora con una linea de regresion.\n",
    "sns.lmplot(x='peso_cascara', y='edad', data=df_train, truncate = True, scatter_kws={'s':0.8, 'alpha':0.8})"
   ]
  },
  {
   "cell_type": "code",
   "execution_count": 144,
   "id": "0deb4c1e",
   "metadata": {},
   "outputs": [
    {
     "data": {
      "text/plain": [
       "<matplotlib.collections.PathCollection at 0x7fa191c40700>"
      ]
     },
     "execution_count": 144,
     "metadata": {},
     "output_type": "execute_result"
    },
    {
     "data": {
      "image/png": "[encoded data removed]",
      "text/plain": [
       "<Figure size 432x288 with 1 Axes>"
      ]
     },
     "metadata": {
      "needs_background": "light"
     },
     "output_type": "display_data"
    }
   ],
   "source": [
    "# No necesaremanete un Molusco por su edad crece de altura\n",
    "plt.scatter(df_train['altura'],df_train['edad'])"
   ]
  },
  {
   "cell_type": "code",
   "execution_count": 145,
   "id": "490a0a41",
   "metadata": {},
   "outputs": [
    {
     "data": {
      "text/plain": [
       "<seaborn.axisgrid.PairGrid at 0x7fa192800580>"
      ]
     },
     "execution_count": 145,
     "metadata": {},
     "output_type": "execute_result"
    },
    {
     "data": {
      "image/png": "[encoded data removed]",
      "text/plain": [
       "<Figure size 720x180 with 4 Axes>"
      ]
     },
     "metadata": {
      "needs_background": "light"
     },
     "output_type": "display_data"
    }
   ],
   "source": [
    "sns.pairplot(df_train,x_vars=['longitud','diametro','altura','peso_cascara'],y_vars=['edad'],kind='reg')"
   ]
  },
  {
   "cell_type": "code",
   "execution_count": 229,
   "id": "232bfde2",
   "metadata": {},
   "outputs": [
    {
     "data": {
      "text/plain": [
       "<seaborn.axisgrid.PairGrid at 0x7fa1968f9880>"
      ]
     },
     "execution_count": 229,
     "metadata": {},
     "output_type": "execute_result"
    },
    {
     "data": {
      "image/png": "[encoded data removed]",
      "text/plain": [
       "<Figure size 540x180 with 3 Axes>"
      ]
     },
     "metadata": {
      "needs_background": "light"
     },
     "output_type": "display_data"
    },
    {
     "data": {
      "image/png": "[encoded data removed]",
      "text/plain": [
       "<Figure size 540x180 with 3 Axes>"
      ]
     },
     "metadata": {
      "needs_background": "light"
     },
     "output_type": "display_data"
    },
    {
     "data": {
      "image/png": "[encoded data removed]",
      "text/plain": [
       "<Figure size 360x180 with 2 Axes>"
      ]
     },
     "metadata": {
      "needs_background": "light"
     },
     "output_type": "display_data"
    }
   ],
   "source": [
    "sns.pairplot(df_train, x_vars=['longitud', 'diametro', 'peso_cascara'], y_vars=['edad'])\n",
    "sns.pairplot(df_train, x_vars=['altura', 'peso_entero', 'peso_sin_cascara'], y_vars=['edad'])\n",
    "sns.pairplot(df_train, x_vars=['peso_visceras', 'peso_cascara'], y_vars=['edad'])"
   ]
  },
  {
   "cell_type": "markdown",
   "id": "794db91c",
   "metadata": {},
   "source": [
    "## Existe una correlacion positivas que a mayor altura es mayor edad. \n",
    "Levemente el peso de la cascara, la longitud. Pero la edad es muy determinante por estas variables.\n"
   ]
  },
  {
   "cell_type": "code",
   "execution_count": 146,
   "id": "dd6098e1",
   "metadata": {},
   "outputs": [
    {
     "data": {
      "text/plain": [
       "<AxesSubplot:xlabel='sexo', ylabel='count'>"
      ]
     },
     "execution_count": 146,
     "metadata": {},
     "output_type": "execute_result"
    },
    {
     "data": {
      "image/png": "[encoded data removed]",
      "text/plain": [
       "<Figure size 432x288 with 1 Axes>"
      ]
     },
     "metadata": {
      "needs_background": "light"
     },
     "output_type": "display_data"
    }
   ],
   "source": [
    "sns.countplot(x ='sexo',data=df_train)"
   ]
  },
  {
   "cell_type": "code",
   "execution_count": 147,
   "id": "32d7e543",
   "metadata": {
    "scrolled": true
   },
   "outputs": [
    {
     "data": {
      "text/plain": [
       "<seaborn.axisgrid.FacetGrid at 0x7fa192800910>"
      ]
     },
     "execution_count": 147,
     "metadata": {},
     "output_type": "execute_result"
    },
    {
     "data": {
      "image/png": "[encoded data removed]",
      "text/plain": [
       "<Figure size 360x360 with 1 Axes>"
      ]
     },
     "metadata": {
      "needs_background": "light"
     },
     "output_type": "display_data"
    }
   ],
   "source": [
    "sns.displot(df_train['edad'])"
   ]
  },
  {
   "cell_type": "code",
   "execution_count": 148,
   "id": "c0376948",
   "metadata": {},
   "outputs": [
    {
     "data": {
      "text/plain": [
       "<seaborn.axisgrid.FacetGrid at 0x7fa192a64610>"
      ]
     },
     "execution_count": 148,
     "metadata": {},
     "output_type": "execute_result"
    },
    {
     "data": {
      "image/png": "[encoded data removed]",
      "text/plain": [
       "<Figure size 360x360 with 1 Axes>"
      ]
     },
     "metadata": {
      "needs_background": "light"
     },
     "output_type": "display_data"
    }
   ],
   "source": [
    "sns.displot(df_train['peso_cascara'])"
   ]
  },
  {
   "cell_type": "code",
   "execution_count": 149,
   "id": "12c86a2e",
   "metadata": {},
   "outputs": [
    {
     "data": {
      "text/plain": [
       "<seaborn.axisgrid.FacetGrid at 0x7fa193b29dc0>"
      ]
     },
     "execution_count": 149,
     "metadata": {},
     "output_type": "execute_result"
    },
    {
     "data": {
      "image/png": "[encoded data removed]",
      "text/plain": [
       "<Figure size 360x360 with 1 Axes>"
      ]
     },
     "metadata": {
      "needs_background": "light"
     },
     "output_type": "display_data"
    }
   ],
   "source": [
    "sns.displot(df_train['altura'])"
   ]
  },
  {
   "cell_type": "markdown",
   "id": "76738320",
   "metadata": {},
   "source": [
    "## Boxplot \n",
    "Variable Categorica como el sexo con la edad"
   ]
  },
  {
   "cell_type": "code",
   "execution_count": 150,
   "id": "52a999b2",
   "metadata": {},
   "outputs": [
    {
     "data": {
      "text/plain": [
       "<AxesSubplot:xlabel='sexo', ylabel='edad'>"
      ]
     },
     "execution_count": 150,
     "metadata": {},
     "output_type": "execute_result"
    },
    {
     "data": {
      "image/png": "[encoded data removed]",
      "text/plain": [
       "<Figure size 432x288 with 1 Axes>"
      ]
     },
     "metadata": {
      "needs_background": "light"
     },
     "output_type": "display_data"
    }
   ],
   "source": [
    "sns.boxplot(x ='sexo', \n",
    "            y ='edad', \n",
    "            data=df_train)\n"
   ]
  },
  {
   "cell_type": "markdown",
   "id": "b1c95adf",
   "metadata": {},
   "source": [
    "### Las del sexo femenino pueden ser un poco mas altas que los machos."
   ]
  },
  {
   "cell_type": "code",
   "execution_count": 153,
   "id": "5532ffb8",
   "metadata": {
    "scrolled": false
   },
   "outputs": [
    {
     "data": {
      "text/plain": [
       "<AxesSubplot:xlabel='sexo', ylabel='peso_cascara'>"
      ]
     },
     "execution_count": 153,
     "metadata": {},
     "output_type": "execute_result"
    },
    {
     "data": {
      "image/png": "[encoded data removed]",
      "text/plain": [
       "<Figure size 432x288 with 1 Axes>"
      ]
     },
     "metadata": {
      "needs_background": "light"
     },
     "output_type": "display_data"
    }
   ],
   "source": [
    "sns.boxplot(x ='sexo', \n",
    "            y ='peso_cascara', \n",
    "            data=df_train)\n"
   ]
  },
  {
   "cell_type": "code",
   "execution_count": 154,
   "id": "59f48dea",
   "metadata": {},
   "outputs": [
    {
     "data": {
      "text/plain": [
       "sexo\n",
       "M    1233\n",
       "F    1070\n",
       "I    1039\n",
       "dtype: int64"
      ]
     },
     "execution_count": 154,
     "metadata": {},
     "output_type": "execute_result"
    }
   ],
   "source": [
    "df_train.value_counts('sexo')"
   ]
  },
  {
   "cell_type": "markdown",
   "id": "b7d1157f",
   "metadata": {},
   "source": [
    "## Conclusiones del analisis exploratorio.\n",
    "\n",
    "Todas las variables estan correlacionadas con la edad, siendo .. la mas "
   ]
  },
  {
   "cell_type": "markdown",
   "id": "118c2709",
   "metadata": {},
   "source": [
    "# Analisis Predictivo "
   ]
  },
  {
   "cell_type": "code",
   "execution_count": 155,
   "id": "3728d09b",
   "metadata": {},
   "outputs": [],
   "source": [
    "#importamos la las funciones para los modelos\n",
    "from sklearn.linear_model import LinearRegression\n",
    "from sklearn.metrics import mean_squared_error, mean_absolute_error, mean_absolute_percentage_error\n",
    "from sklearn.ensemble import RandomForestRegressor\n"
   ]
  },
  {
   "cell_type": "markdown",
   "id": "29635cc4",
   "metadata": {},
   "source": [
    "# Crear nuevas variables con el sexo del MOLUSCO\n",
    "\n",
    "Como el codigo get_dummies estaba teniendo problemas busque la otra forma para hacer la ingenieria de variables.\n",
    "Solo dos columnas para capturar la informacion sin que tenga una sobre informacion o prevenir el overfiting. \n",
    "\n",
    "\n",
    "train_dummies = pd.get_dummies(df_train.sexo, prefix='Sexo').iloc[:,1:]\n",
    "\n",
    "Si es 0-0 es Femenino, Si es 1-0 es indefinido, Si es 0-1 es Masculino.\n",
    "\n",
    "Luego concatenamos con la funcion pd.concat(), para unir este nuevas dos columnas con nuestro df_train lo mismo haremos con df_test.\n",
    "\n",
    "El algoritmo sera asi df_train = pd.concat([df_train,train_dummies],axis=1)\n",
    "\n",
    "y de test:\n",
    "\n",
    "df_test = pd.concat([df_test,test_dummies],axis=1)"
   ]
  },
  {
   "cell_type": "code",
   "execution_count": 156,
   "id": "d8c2c60e",
   "metadata": {},
   "outputs": [
    {
     "data": {
      "text/plain": [
       "Index(['sexo', 'longitud', 'diametro', 'altura', 'peso_entero',\n",
       "       'peso_sin_cascara', 'peso_visceras', 'peso_cascara', 'edad'],\n",
       "      dtype='object')"
      ]
     },
     "execution_count": 156,
     "metadata": {},
     "output_type": "execute_result"
    }
   ],
   "source": [
    "df_train.columns"
   ]
  },
  {
   "cell_type": "code",
   "execution_count": 158,
   "id": "e2f25686",
   "metadata": {},
   "outputs": [],
   "source": [
    "train_dummies = pd.get_dummies(df_train.sexo, prefix='Sexo').iloc[:,1:]"
   ]
  },
  {
   "cell_type": "code",
   "execution_count": 159,
   "id": "34399bde",
   "metadata": {},
   "outputs": [
    {
     "data": {
      "text/html": [
       "<div>\n",
       "<style scoped>\n",
       "    .dataframe tbody tr th:only-of-type {\n",
       "        vertical-align: middle;\n",
       "    }\n",
       "\n",
       "    .dataframe tbody tr th {\n",
       "        vertical-align: top;\n",
       "    }\n",
       "\n",
       "    .dataframe thead th {\n",
       "        text-align: right;\n",
       "    }\n",
       "</style>\n",
       "<table border=\"1\" class=\"dataframe\">\n",
       "  <thead>\n",
       "    <tr style=\"text-align: right;\">\n",
       "      <th></th>\n",
       "      <th>Sexo_I</th>\n",
       "      <th>Sexo_M</th>\n",
       "    </tr>\n",
       "  </thead>\n",
       "  <tbody>\n",
       "    <tr>\n",
       "      <th>0</th>\n",
       "      <td>0</td>\n",
       "      <td>1</td>\n",
       "    </tr>\n",
       "    <tr>\n",
       "      <th>1</th>\n",
       "      <td>1</td>\n",
       "      <td>0</td>\n",
       "    </tr>\n",
       "    <tr>\n",
       "      <th>2</th>\n",
       "      <td>0</td>\n",
       "      <td>1</td>\n",
       "    </tr>\n",
       "    <tr>\n",
       "      <th>3</th>\n",
       "      <td>1</td>\n",
       "      <td>0</td>\n",
       "    </tr>\n",
       "    <tr>\n",
       "      <th>4</th>\n",
       "      <td>0</td>\n",
       "      <td>0</td>\n",
       "    </tr>\n",
       "    <tr>\n",
       "      <th>...</th>\n",
       "      <td>...</td>\n",
       "      <td>...</td>\n",
       "    </tr>\n",
       "    <tr>\n",
       "      <th>3337</th>\n",
       "      <td>1</td>\n",
       "      <td>0</td>\n",
       "    </tr>\n",
       "    <tr>\n",
       "      <th>3338</th>\n",
       "      <td>1</td>\n",
       "      <td>0</td>\n",
       "    </tr>\n",
       "    <tr>\n",
       "      <th>3339</th>\n",
       "      <td>0</td>\n",
       "      <td>0</td>\n",
       "    </tr>\n",
       "    <tr>\n",
       "      <th>3340</th>\n",
       "      <td>0</td>\n",
       "      <td>1</td>\n",
       "    </tr>\n",
       "    <tr>\n",
       "      <th>3341</th>\n",
       "      <td>0</td>\n",
       "      <td>1</td>\n",
       "    </tr>\n",
       "  </tbody>\n",
       "</table>\n",
       "<p>3342 rows × 2 columns</p>\n",
       "</div>"
      ],
      "text/plain": [
       "      Sexo_I  Sexo_M\n",
       "0          0       1\n",
       "1          1       0\n",
       "2          0       1\n",
       "3          1       0\n",
       "4          0       0\n",
       "...      ...     ...\n",
       "3337       1       0\n",
       "3338       1       0\n",
       "3339       0       0\n",
       "3340       0       1\n",
       "3341       0       1\n",
       "\n",
       "[3342 rows x 2 columns]"
      ]
     },
     "execution_count": 159,
     "metadata": {},
     "output_type": "execute_result"
    }
   ],
   "source": [
    "train_dummies "
   ]
  },
  {
   "cell_type": "code",
   "execution_count": 160,
   "id": "5e254bdb",
   "metadata": {
    "scrolled": false
   },
   "outputs": [],
   "source": [
    "df_train = pd.concat([df_train,train_dummies],axis=1)"
   ]
  },
  {
   "cell_type": "code",
   "execution_count": 161,
   "id": "aa269cec",
   "metadata": {},
   "outputs": [
    {
     "data": {
      "text/html": [
       "<div>\n",
       "<style scoped>\n",
       "    .dataframe tbody tr th:only-of-type {\n",
       "        vertical-align: middle;\n",
       "    }\n",
       "\n",
       "    .dataframe tbody tr th {\n",
       "        vertical-align: top;\n",
       "    }\n",
       "\n",
       "    .dataframe thead th {\n",
       "        text-align: right;\n",
       "    }\n",
       "</style>\n",
       "<table border=\"1\" class=\"dataframe\">\n",
       "  <thead>\n",
       "    <tr style=\"text-align: right;\">\n",
       "      <th></th>\n",
       "      <th>sexo</th>\n",
       "      <th>longitud</th>\n",
       "      <th>diametro</th>\n",
       "      <th>altura</th>\n",
       "      <th>peso_entero</th>\n",
       "      <th>peso_sin_cascara</th>\n",
       "      <th>peso_visceras</th>\n",
       "      <th>peso_cascara</th>\n",
       "      <th>edad</th>\n",
       "      <th>Sexo_I</th>\n",
       "      <th>Sexo_M</th>\n",
       "    </tr>\n",
       "  </thead>\n",
       "  <tbody>\n",
       "    <tr>\n",
       "      <th>0</th>\n",
       "      <td>M</td>\n",
       "      <td>0.620</td>\n",
       "      <td>0.490</td>\n",
       "      <td>0.155</td>\n",
       "      <td>1.1000</td>\n",
       "      <td>0.5050</td>\n",
       "      <td>0.2475</td>\n",
       "      <td>0.3100</td>\n",
       "      <td>9</td>\n",
       "      <td>0</td>\n",
       "      <td>1</td>\n",
       "    </tr>\n",
       "    <tr>\n",
       "      <th>1</th>\n",
       "      <td>I</td>\n",
       "      <td>0.475</td>\n",
       "      <td>0.375</td>\n",
       "      <td>0.110</td>\n",
       "      <td>0.4560</td>\n",
       "      <td>0.1820</td>\n",
       "      <td>0.0990</td>\n",
       "      <td>0.1600</td>\n",
       "      <td>9</td>\n",
       "      <td>1</td>\n",
       "      <td>0</td>\n",
       "    </tr>\n",
       "    <tr>\n",
       "      <th>2</th>\n",
       "      <td>M</td>\n",
       "      <td>0.600</td>\n",
       "      <td>0.475</td>\n",
       "      <td>0.175</td>\n",
       "      <td>1.1100</td>\n",
       "      <td>0.5105</td>\n",
       "      <td>0.2560</td>\n",
       "      <td>0.2850</td>\n",
       "      <td>9</td>\n",
       "      <td>0</td>\n",
       "      <td>1</td>\n",
       "    </tr>\n",
       "    <tr>\n",
       "      <th>3</th>\n",
       "      <td>I</td>\n",
       "      <td>0.340</td>\n",
       "      <td>0.255</td>\n",
       "      <td>0.075</td>\n",
       "      <td>0.1800</td>\n",
       "      <td>0.0745</td>\n",
       "      <td>0.0400</td>\n",
       "      <td>0.0525</td>\n",
       "      <td>6</td>\n",
       "      <td>1</td>\n",
       "      <td>0</td>\n",
       "    </tr>\n",
       "    <tr>\n",
       "      <th>4</th>\n",
       "      <td>F</td>\n",
       "      <td>0.670</td>\n",
       "      <td>0.505</td>\n",
       "      <td>0.205</td>\n",
       "      <td>1.3645</td>\n",
       "      <td>0.6075</td>\n",
       "      <td>0.3025</td>\n",
       "      <td>0.3530</td>\n",
       "      <td>9</td>\n",
       "      <td>0</td>\n",
       "      <td>0</td>\n",
       "    </tr>\n",
       "  </tbody>\n",
       "</table>\n",
       "</div>"
      ],
      "text/plain": [
       "  sexo  longitud  diametro  altura  peso_entero  peso_sin_cascara  \\\n",
       "0    M     0.620     0.490   0.155       1.1000            0.5050   \n",
       "1    I     0.475     0.375   0.110       0.4560            0.1820   \n",
       "2    M     0.600     0.475   0.175       1.1100            0.5105   \n",
       "3    I     0.340     0.255   0.075       0.1800            0.0745   \n",
       "4    F     0.670     0.505   0.205       1.3645            0.6075   \n",
       "\n",
       "   peso_visceras  peso_cascara  edad  Sexo_I  Sexo_M  \n",
       "0         0.2475        0.3100     9       0       1  \n",
       "1         0.0990        0.1600     9       1       0  \n",
       "2         0.2560        0.2850     9       0       1  \n",
       "3         0.0400        0.0525     6       1       0  \n",
       "4         0.3025        0.3530     9       0       0  "
      ]
     },
     "execution_count": 161,
     "metadata": {},
     "output_type": "execute_result"
    }
   ],
   "source": [
    "df_train.head()"
   ]
  },
  {
   "cell_type": "code",
   "execution_count": 162,
   "id": "87cbb484",
   "metadata": {},
   "outputs": [],
   "source": [
    "test_dummies = pd.get_dummies(df_test.sexo, prefix='Sexo').iloc[:,1:]"
   ]
  },
  {
   "cell_type": "code",
   "execution_count": 163,
   "id": "3231ca7d",
   "metadata": {
    "scrolled": false
   },
   "outputs": [
    {
     "data": {
      "text/html": [
       "<div>\n",
       "<style scoped>\n",
       "    .dataframe tbody tr th:only-of-type {\n",
       "        vertical-align: middle;\n",
       "    }\n",
       "\n",
       "    .dataframe tbody tr th {\n",
       "        vertical-align: top;\n",
       "    }\n",
       "\n",
       "    .dataframe thead th {\n",
       "        text-align: right;\n",
       "    }\n",
       "</style>\n",
       "<table border=\"1\" class=\"dataframe\">\n",
       "  <thead>\n",
       "    <tr style=\"text-align: right;\">\n",
       "      <th></th>\n",
       "      <th>Sexo_I</th>\n",
       "      <th>Sexo_M</th>\n",
       "    </tr>\n",
       "  </thead>\n",
       "  <tbody>\n",
       "    <tr>\n",
       "      <th>0</th>\n",
       "      <td>0</td>\n",
       "      <td>1</td>\n",
       "    </tr>\n",
       "    <tr>\n",
       "      <th>1</th>\n",
       "      <td>0</td>\n",
       "      <td>0</td>\n",
       "    </tr>\n",
       "    <tr>\n",
       "      <th>2</th>\n",
       "      <td>1</td>\n",
       "      <td>0</td>\n",
       "    </tr>\n",
       "    <tr>\n",
       "      <th>3</th>\n",
       "      <td>0</td>\n",
       "      <td>0</td>\n",
       "    </tr>\n",
       "    <tr>\n",
       "      <th>4</th>\n",
       "      <td>1</td>\n",
       "      <td>0</td>\n",
       "    </tr>\n",
       "    <tr>\n",
       "      <th>...</th>\n",
       "      <td>...</td>\n",
       "      <td>...</td>\n",
       "    </tr>\n",
       "    <tr>\n",
       "      <th>830</th>\n",
       "      <td>0</td>\n",
       "      <td>0</td>\n",
       "    </tr>\n",
       "    <tr>\n",
       "      <th>831</th>\n",
       "      <td>0</td>\n",
       "      <td>1</td>\n",
       "    </tr>\n",
       "    <tr>\n",
       "      <th>832</th>\n",
       "      <td>0</td>\n",
       "      <td>1</td>\n",
       "    </tr>\n",
       "    <tr>\n",
       "      <th>833</th>\n",
       "      <td>0</td>\n",
       "      <td>0</td>\n",
       "    </tr>\n",
       "    <tr>\n",
       "      <th>834</th>\n",
       "      <td>0</td>\n",
       "      <td>1</td>\n",
       "    </tr>\n",
       "  </tbody>\n",
       "</table>\n",
       "<p>835 rows × 2 columns</p>\n",
       "</div>"
      ],
      "text/plain": [
       "     Sexo_I  Sexo_M\n",
       "0         0       1\n",
       "1         0       0\n",
       "2         1       0\n",
       "3         0       0\n",
       "4         1       0\n",
       "..      ...     ...\n",
       "830       0       0\n",
       "831       0       1\n",
       "832       0       1\n",
       "833       0       0\n",
       "834       0       1\n",
       "\n",
       "[835 rows x 2 columns]"
      ]
     },
     "execution_count": 163,
     "metadata": {},
     "output_type": "execute_result"
    }
   ],
   "source": [
    "test_dummies"
   ]
  },
  {
   "cell_type": "code",
   "execution_count": 164,
   "id": "87dfada2",
   "metadata": {},
   "outputs": [],
   "source": [
    "df_test = pd.concat([df_test,test_dummies],axis=1)"
   ]
  },
  {
   "cell_type": "code",
   "execution_count": 165,
   "id": "3a1a932a",
   "metadata": {},
   "outputs": [
    {
     "data": {
      "text/html": [
       "<div>\n",
       "<style scoped>\n",
       "    .dataframe tbody tr th:only-of-type {\n",
       "        vertical-align: middle;\n",
       "    }\n",
       "\n",
       "    .dataframe tbody tr th {\n",
       "        vertical-align: top;\n",
       "    }\n",
       "\n",
       "    .dataframe thead th {\n",
       "        text-align: right;\n",
       "    }\n",
       "</style>\n",
       "<table border=\"1\" class=\"dataframe\">\n",
       "  <thead>\n",
       "    <tr style=\"text-align: right;\">\n",
       "      <th></th>\n",
       "      <th>sexo</th>\n",
       "      <th>longitud</th>\n",
       "      <th>diametro</th>\n",
       "      <th>altura</th>\n",
       "      <th>peso_entero</th>\n",
       "      <th>peso_sin_cascara</th>\n",
       "      <th>peso_visceras</th>\n",
       "      <th>peso_cascara</th>\n",
       "      <th>edad</th>\n",
       "      <th>modelo_2</th>\n",
       "      <th>modelo_3</th>\n",
       "      <th>Sexo_I</th>\n",
       "      <th>Sexo_M</th>\n",
       "    </tr>\n",
       "  </thead>\n",
       "  <tbody>\n",
       "    <tr>\n",
       "      <th>0</th>\n",
       "      <td>M</td>\n",
       "      <td>0.430</td>\n",
       "      <td>0.330</td>\n",
       "      <td>0.095</td>\n",
       "      <td>0.340</td>\n",
       "      <td>0.1315</td>\n",
       "      <td>0.085</td>\n",
       "      <td>0.1120</td>\n",
       "      <td>14</td>\n",
       "      <td>16.98</td>\n",
       "      <td>15.13</td>\n",
       "      <td>0</td>\n",
       "      <td>1</td>\n",
       "    </tr>\n",
       "    <tr>\n",
       "      <th>1</th>\n",
       "      <td>F</td>\n",
       "      <td>0.455</td>\n",
       "      <td>0.365</td>\n",
       "      <td>0.110</td>\n",
       "      <td>0.385</td>\n",
       "      <td>0.1660</td>\n",
       "      <td>0.046</td>\n",
       "      <td>0.1345</td>\n",
       "      <td>13</td>\n",
       "      <td>20.73</td>\n",
       "      <td>16.38</td>\n",
       "      <td>0</td>\n",
       "      <td>0</td>\n",
       "    </tr>\n",
       "    <tr>\n",
       "      <th>2</th>\n",
       "      <td>I</td>\n",
       "      <td>0.495</td>\n",
       "      <td>0.380</td>\n",
       "      <td>0.145</td>\n",
       "      <td>0.515</td>\n",
       "      <td>0.1750</td>\n",
       "      <td>0.098</td>\n",
       "      <td>0.2120</td>\n",
       "      <td>13</td>\n",
       "      <td>18.43</td>\n",
       "      <td>13.51</td>\n",
       "      <td>1</td>\n",
       "      <td>0</td>\n",
       "    </tr>\n",
       "    <tr>\n",
       "      <th>3</th>\n",
       "      <td>F</td>\n",
       "      <td>0.480</td>\n",
       "      <td>0.380</td>\n",
       "      <td>0.145</td>\n",
       "      <td>0.590</td>\n",
       "      <td>0.2320</td>\n",
       "      <td>0.141</td>\n",
       "      <td>0.2300</td>\n",
       "      <td>12</td>\n",
       "      <td>17.72</td>\n",
       "      <td>14.71</td>\n",
       "      <td>0</td>\n",
       "      <td>0</td>\n",
       "    </tr>\n",
       "    <tr>\n",
       "      <th>4</th>\n",
       "      <td>I</td>\n",
       "      <td>0.470</td>\n",
       "      <td>0.400</td>\n",
       "      <td>0.160</td>\n",
       "      <td>0.510</td>\n",
       "      <td>0.1615</td>\n",
       "      <td>0.073</td>\n",
       "      <td>0.1980</td>\n",
       "      <td>14</td>\n",
       "      <td>17.66</td>\n",
       "      <td>16.27</td>\n",
       "      <td>1</td>\n",
       "      <td>0</td>\n",
       "    </tr>\n",
       "  </tbody>\n",
       "</table>\n",
       "</div>"
      ],
      "text/plain": [
       "  sexo  longitud  diametro  altura  peso_entero  peso_sin_cascara  \\\n",
       "0    M     0.430     0.330   0.095        0.340            0.1315   \n",
       "1    F     0.455     0.365   0.110        0.385            0.1660   \n",
       "2    I     0.495     0.380   0.145        0.515            0.1750   \n",
       "3    F     0.480     0.380   0.145        0.590            0.2320   \n",
       "4    I     0.470     0.400   0.160        0.510            0.1615   \n",
       "\n",
       "   peso_visceras  peso_cascara  edad  modelo_2  modelo_3  Sexo_I  Sexo_M  \n",
       "0          0.085        0.1120    14     16.98     15.13       0       1  \n",
       "1          0.046        0.1345    13     20.73     16.38       0       0  \n",
       "2          0.098        0.2120    13     18.43     13.51       1       0  \n",
       "3          0.141        0.2300    12     17.72     14.71       0       0  \n",
       "4          0.073        0.1980    14     17.66     16.27       1       0  "
      ]
     },
     "execution_count": 165,
     "metadata": {},
     "output_type": "execute_result"
    }
   ],
   "source": [
    "df_test.head()"
   ]
  },
  {
   "cell_type": "markdown",
   "id": "ffe538ef",
   "metadata": {},
   "source": [
    "# Modelo de regresión lineal univariada"
   ]
  },
  {
   "cell_type": "markdown",
   "id": "66da672b",
   "metadata": {},
   "source": [
    "### Segun nuestro analisis las variables con mayor correlacion es peso de la cascara o peso_cascara con un 0.64 de correlacion positiva. \n",
    "\n",
    "Vamos a empezar con ese analisis univariado primero de esa variable. "
   ]
  },
  {
   "cell_type": "code",
   "execution_count": 166,
   "id": "9e2a6feb",
   "metadata": {},
   "outputs": [],
   "source": [
    "# Importamos nuestras funciones de sklearn primero\n",
    "\n",
    "from sklearn.linear_model import LinearRegression\n",
    "from sklearn.metrics import mean_squared_error, mean_absolute_error, mean_absolute_percentage_error\n",
    "from sklearn.ensemble import RandomForestRegressor"
   ]
  },
  {
   "cell_type": "code",
   "execution_count": 204,
   "id": "01bcac03",
   "metadata": {},
   "outputs": [],
   "source": [
    "regr = LinearRegression()"
   ]
  },
  {
   "cell_type": "code",
   "execution_count": 205,
   "id": "581900b3",
   "metadata": {},
   "outputs": [],
   "source": [
    "model = LinearRegression().fit(df_train[['peso_cascara']],df[['edad']])"
   ]
  },
  {
   "cell_type": "code",
   "execution_count": 210,
   "id": "47062164",
   "metadata": {},
   "outputs": [],
   "source": [
    "model.predict(df_test[['peso_cascara']])\n",
    "df_test[['predicted']]= pd.DataFrame(model.predict(df_test[['peso_cascara']]))"
   ]
  },
  {
   "cell_type": "markdown",
   "id": "dc1aa8df",
   "metadata": {},
   "source": [
    "### Metricas para medir este modelo univariado con los RMSE, MAE, MAPE"
   ]
  },
  {
   "cell_type": "code",
   "execution_count": 211,
   "id": "133cb47d",
   "metadata": {},
   "outputs": [
    {
     "name": "stdout",
     "output_type": "stream",
     "text": [
      "RMSE = 2.27\n",
      "MAE = 1.73\n",
      "MAPE = 0.19\n"
     ]
    }
   ],
   "source": [
    "# Abajo lo redondea a dos decimales y le pone el contenido o titulo. \n",
    "RMSE = mean_squared_error(df_test[['edad']],df_test[['predicted']],squared=False)\n",
    "MAE = mean_absolute_error(df_test[['edad']],df_test[['predicted']])\n",
    "MAPE = mean_absolute_percentage_error(df_test[['edad']],df_test[['predicted']])\n",
    "print(\"RMSE = {}\".format(round(RMSE, 2)))\n",
    "print(\"MAE = {}\".format(round(MAE, 2)))\n",
    "print(\"MAPE = {}\".format(round(MAPE, 2)))"
   ]
  },
  {
   "cell_type": "code",
   "execution_count": 212,
   "id": "5617ba2e",
   "metadata": {},
   "outputs": [
    {
     "data": {
      "image/png": "[encoded data removed]",
      "text/plain": [
       "<Figure size 432x288 with 1 Axes>"
      ]
     },
     "metadata": {
      "needs_background": "light"
     },
     "output_type": "display_data"
    }
   ],
   "source": [
    "plt.scatter(df_test[['edad']], df_test[['predicted']])\n",
    "plt.plot(df_test[['edad']], df_test[['edad']])\n",
    "plt.title(\"Edad Eeal vs Edad Predicha\")\n",
    "plt.xlabel(\"Edad Real\")\n",
    "plt.ylabel(\"Edad Predicha\")\n",
    "plt.show()\n"
   ]
  },
  {
   "cell_type": "markdown",
   "id": "2148dfe5",
   "metadata": {},
   "source": [
    "## Regresion Lineal con Error Cuadratico\n",
    "\n",
    "Lo haremos para ver si reduce nuestras metricas"
   ]
  },
  {
   "cell_type": "code",
   "execution_count": 175,
   "id": "b448e345",
   "metadata": {},
   "outputs": [],
   "source": [
    "df_train[['cascara_sq']] = df_train[['peso_cascara']]* df_train[['peso_cascara']]"
   ]
  },
  {
   "cell_type": "code",
   "execution_count": 176,
   "id": "c262ab85",
   "metadata": {},
   "outputs": [],
   "source": [
    "linear_quad = LinearRegression().fit(df_train[['peso_cascara','cascara_sq']], df_train[['edad']])"
   ]
  },
  {
   "cell_type": "code",
   "execution_count": 177,
   "id": "324e5482",
   "metadata": {},
   "outputs": [],
   "source": [
    "df_test[['cascara_sq']] = df_test[['peso_cascara']]*df_test[['peso_cascara']]\n",
    "df_test[['predicted_sq']] = pd.DataFrame(linear_quad.predict(df_test[['peso_cascara', 'cascara_sq']]))"
   ]
  },
  {
   "cell_type": "code",
   "execution_count": 178,
   "id": "5ee92847",
   "metadata": {},
   "outputs": [
    {
     "name": "stdout",
     "output_type": "stream",
     "text": [
      "RMSE = 2.23\n",
      "MAE = 1.72\n",
      "MAPE = 0.19\n"
     ]
    }
   ],
   "source": [
    "RMSE = mean_squared_error(df_test[['edad']], df_test[['predicted_sq']], squared=False)\n",
    "MAE = mean_absolute_error(df_test[['edad']], df_test[['predicted_sq']])\n",
    "MAPE = mean_absolute_percentage_error(df_test[['edad']], df_test[['predicted_sq']])\n",
    "print(\"RMSE = {}\".format(round(RMSE, 2)))\n",
    "print(\"MAE = {}\".format(round(MAE, 2)))\n",
    "print(\"MAPE = {}\".format(round(MAPE, 2)))"
   ]
  },
  {
   "cell_type": "code",
   "execution_count": 226,
   "id": "a5fe4b14",
   "metadata": {},
   "outputs": [
    {
     "data": {
      "image/png": "[encoded data removed]",
      "text/plain": [
       "<Figure size 432x288 with 1 Axes>"
      ]
     },
     "metadata": {
      "needs_background": "light"
     },
     "output_type": "display_data"
    }
   ],
   "source": [
    "plt.scatter(df_test[['edad']], df_test[['predicted_sq']])\n",
    "plt.plot(df_test[['edad']], df_test[['edad']])\n",
    "plt.title(\"Edad Eeal vs Edad Predicha\")\n",
    "plt.xlabel(\"Edad Real\")\n",
    "plt.ylabel(\"Edad Predicha\")\n",
    "plt.show()\n"
   ]
  },
  {
   "cell_type": "markdown",
   "id": "c6ea3ca1",
   "metadata": {},
   "source": [
    "### Vemos que mejoro el modelo en error cuadratico, por decimas."
   ]
  },
  {
   "cell_type": "markdown",
   "id": "da5cd80a",
   "metadata": {},
   "source": [
    "# Modelo de Regresion Multivariado \n",
    "Haremos un modelo multivariado, agregando el Sexo como variable, de la que hicimos con dummies variables."
   ]
  },
  {
   "cell_type": "code",
   "execution_count": 200,
   "id": "524f263e",
   "metadata": {},
   "outputs": [],
   "source": [
    "columnas = ['longitud', 'diametro', 'altura', 'peso_entero',  'peso_sin_cascara'\n",
    "      , 'peso_visceras', 'peso_cascara', 'Sexo_I','Sexo_M']"
   ]
  },
  {
   "cell_type": "code",
   "execution_count": 201,
   "id": "ef4eba4f",
   "metadata": {},
   "outputs": [],
   "source": [
    "modelo_multi = LinearRegression().fit(df_train[columnas], df_train[['edad']])"
   ]
  },
  {
   "cell_type": "code",
   "execution_count": 202,
   "id": "f3dd5672",
   "metadata": {},
   "outputs": [],
   "source": [
    "df_test[['predicha_multi']] = pd.DataFrame(modelo_multi.predict(df_test[columnas]))"
   ]
  },
  {
   "cell_type": "code",
   "execution_count": 203,
   "id": "46f5ee45",
   "metadata": {},
   "outputs": [
    {
     "name": "stdout",
     "output_type": "stream",
     "text": [
      "RMSE = 2.0\n",
      "MAE = 1.5\n",
      "MAPE = 0.16\n"
     ]
    }
   ],
   "source": [
    "RMSE = mean_squared_error(df_test[['edad']],df_test[['predicha_multi']],squared=False)\n",
    "MAE = mean_absolute_error(df_test[['edad']],df_test[['predicha_multi']])\n",
    "MAPE = mean_absolute_percentage_error(df_test[['edad']],df_test[['predicha_multi']])\n",
    "print(\"RMSE = {}\".format(round(RMSE, 2)))\n",
    "print(\"MAE = {}\".format(round(MAE, 2)))\n",
    "print(\"MAPE = {}\".format(round(MAPE, 2)))"
   ]
  },
  {
   "cell_type": "markdown",
   "id": "4d08d320",
   "metadata": {},
   "source": [
    "#### Evalue varios modelos quitando varias varibales a la variable columnas, como el Sexo, peso viceras que presentaba baja correlacion. Pero con todas las variables el modelo baja las metricas."
   ]
  },
  {
   "cell_type": "markdown",
   "id": "4195db0b",
   "metadata": {},
   "source": [
    "# Random Forest "
   ]
  },
  {
   "cell_type": "code",
   "execution_count": 219,
   "id": "e8165cbd",
   "metadata": {},
   "outputs": [],
   "source": [
    "random = RandomForestRegressor().fit(df_train[columnas], df_train[['edad']].values.ravel())"
   ]
  },
  {
   "cell_type": "code",
   "execution_count": 220,
   "id": "0f787d35",
   "metadata": {},
   "outputs": [],
   "source": [
    "df_test[['predicha_random']] = pd.DataFrame(random.predict(df_test[columnas]))"
   ]
  },
  {
   "cell_type": "code",
   "execution_count": 221,
   "id": "004e00cb",
   "metadata": {},
   "outputs": [
    {
     "data": {
      "image/png": "[encoded data removed]",
      "text/plain": [
       "<Figure size 432x288 with 1 Axes>"
      ]
     },
     "metadata": {
      "needs_background": "light"
     },
     "output_type": "display_data"
    }
   ],
   "source": [
    "plt.scatter(df_test[['edad']], df_test[['predicha_random']])\n",
    "plt.plot(df_test[['edad']], df_test[['edad']], color = 'red')\n",
    "plt.title(\"Edad eal vs Edad Predicha\")\n",
    "plt.xlabel(\"Edad Real\")\n",
    "plt.xlabel(\"Edad Predicha\")\n",
    "plt.show()"
   ]
  },
  {
   "cell_type": "code",
   "execution_count": 222,
   "id": "8d446e59",
   "metadata": {},
   "outputs": [
    {
     "name": "stdout",
     "output_type": "stream",
     "text": [
      "RMSE = 1.98\n",
      "MAE = 1.45\n",
      "MAPE = 0.15\n"
     ]
    }
   ],
   "source": [
    "RMSE = mean_squared_error(df_test[['edad']], df_test[['predicha_random']], squared=False)\n",
    "MAE = mean_absolute_error(df_test[['edad']], df_test[['predicha_random']])\n",
    "MAPE = mean_absolute_percentage_error(df_test[['edad']], df_test[['predicha_random']])\n",
    "print(\"RMSE = {}\".format(round(RMSE, 2)))\n",
    "print(\"MAE = {}\".format(round(MAE, 2)))\n",
    "print(\"MAPE = {}\".format(round(MAPE, 2)))"
   ]
  },
  {
   "cell_type": "code",
   "execution_count": null,
   "id": "c3b4058b",
   "metadata": {},
   "outputs": [],
   "source": [
    "predictions2 = lr2.predict(X2_test)"
   ]
  },
  {
   "cell_type": "code",
   "execution_count": 225,
   "id": "45458fce",
   "metadata": {},
   "outputs": [
    {
     "data": {
      "text/html": [
       "<div>\n",
       "<style scoped>\n",
       "    .dataframe tbody tr th:only-of-type {\n",
       "        vertical-align: middle;\n",
       "    }\n",
       "\n",
       "    .dataframe tbody tr th {\n",
       "        vertical-align: top;\n",
       "    }\n",
       "\n",
       "    .dataframe thead th {\n",
       "        text-align: right;\n",
       "    }\n",
       "</style>\n",
       "<table border=\"1\" class=\"dataframe\">\n",
       "  <thead>\n",
       "    <tr style=\"text-align: right;\">\n",
       "      <th></th>\n",
       "      <th>variable</th>\n",
       "      <th>FI</th>\n",
       "    </tr>\n",
       "  </thead>\n",
       "  <tbody>\n",
       "    <tr>\n",
       "      <th>6</th>\n",
       "      <td>peso_cascara</td>\n",
       "      <td>0.508018</td>\n",
       "    </tr>\n",
       "    <tr>\n",
       "      <th>4</th>\n",
       "      <td>peso_sin_cascara</td>\n",
       "      <td>0.162437</td>\n",
       "    </tr>\n",
       "    <tr>\n",
       "      <th>3</th>\n",
       "      <td>peso_entero</td>\n",
       "      <td>0.083212</td>\n",
       "    </tr>\n",
       "    <tr>\n",
       "      <th>5</th>\n",
       "      <td>peso_visceras</td>\n",
       "      <td>0.069087</td>\n",
       "    </tr>\n",
       "    <tr>\n",
       "      <th>2</th>\n",
       "      <td>altura</td>\n",
       "      <td>0.052172</td>\n",
       "    </tr>\n",
       "    <tr>\n",
       "      <th>1</th>\n",
       "      <td>diametro</td>\n",
       "      <td>0.050023</td>\n",
       "    </tr>\n",
       "    <tr>\n",
       "      <th>0</th>\n",
       "      <td>longitud</td>\n",
       "      <td>0.049933</td>\n",
       "    </tr>\n",
       "    <tr>\n",
       "      <th>7</th>\n",
       "      <td>Sexo_I</td>\n",
       "      <td>0.016443</td>\n",
       "    </tr>\n",
       "    <tr>\n",
       "      <th>8</th>\n",
       "      <td>Sexo_M</td>\n",
       "      <td>0.008676</td>\n",
       "    </tr>\n",
       "  </tbody>\n",
       "</table>\n",
       "</div>"
      ],
      "text/plain": [
       "           variable        FI\n",
       "6      peso_cascara  0.508018\n",
       "4  peso_sin_cascara  0.162437\n",
       "3       peso_entero  0.083212\n",
       "5     peso_visceras  0.069087\n",
       "2            altura  0.052172\n",
       "1          diametro  0.050023\n",
       "0          longitud  0.049933\n",
       "7            Sexo_I  0.016443\n",
       "8            Sexo_M  0.008676"
      ]
     },
     "execution_count": 225,
     "metadata": {},
     "output_type": "execute_result"
    }
   ],
   "source": [
    "feature_importance = pd.DataFrame({'variable':columnas, 'FI': random.feature_importances_})\n",
    "feature_importance.sort_values('FI', ascending = False)"
   ]
  },
  {
   "cell_type": "markdown",
   "id": "704a5ce6",
   "metadata": {},
   "source": [
    "### El modelo Random Forest es el Ganador, su porcentaje en los medidiores como RMSE, MAE y MAPE son ligermente menores los otros modelos realizados.\n",
    "\n",
    "Al final pudimos ver la relevancia de cada variable con relacion a la edad, como dijimos la variable que mas importa en el modelo es el peso de cascara. "
   ]
  },
  {
   "cell_type": "code",
   "execution_count": null,
   "id": "ae285b3b",
   "metadata": {},
   "outputs": [],
   "source": []
  }
 ],
 "metadata": {
  "kernelspec": {
   "display_name": "Python 3",
   "language": "python",
   "name": "python3"
  },
  "language_info": {
   "codemirror_mode": {
    "name": "ipython",
    "version": 3
   },
   "file_extension": ".py",
   "mimetype": "text/x-python",
   "name": "python",
   "nbconvert_exporter": "python",
   "pygments_lexer": "ipython3",
   "version": "3.8.8"
  }
 },
 "nbformat": 4,
 "nbformat_minor": 5
}
